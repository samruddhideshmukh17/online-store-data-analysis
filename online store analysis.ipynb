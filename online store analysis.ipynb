{
 "cells": [
  {
   "cell_type": "code",
   "execution_count": 1,
   "id": "fddfda08",
   "metadata": {},
   "outputs": [],
   "source": [
    "import pandas as pd\n",
    "import numpy as np\n",
    "import matplotlib.pyplot as plt\n",
    "import seaborn as sns\n",
    "import warnings\n",
    "warnings.filterwarnings(\"ignore\")"
   ]
  },
  {
   "cell_type": "code",
   "execution_count": 2,
   "id": "e57b1d1c",
   "metadata": {},
   "outputs": [],
   "source": [
    "data=pd.read_csv('online_store_customer_data.csv')"
   ]
  },
  {
   "cell_type": "markdown",
   "id": "fee807ea",
   "metadata": {},
   "source": [
    "# Viewing top 5 rows of the dataset"
   ]
  },
  {
   "cell_type": "code",
   "execution_count": 3,
   "id": "2a4756b1",
   "metadata": {},
   "outputs": [
    {
     "data": {
      "text/html": [
       "<div>\n",
       "<style scoped>\n",
       "    .dataframe tbody tr th:only-of-type {\n",
       "        vertical-align: middle;\n",
       "    }\n",
       "\n",
       "    .dataframe tbody tr th {\n",
       "        vertical-align: top;\n",
       "    }\n",
       "\n",
       "    .dataframe thead th {\n",
       "        text-align: right;\n",
       "    }\n",
       "</style>\n",
       "<table border=\"1\" class=\"dataframe\">\n",
       "  <thead>\n",
       "    <tr style=\"text-align: right;\">\n",
       "      <th></th>\n",
       "      <th>Transaction_date</th>\n",
       "      <th>Transaction_ID</th>\n",
       "      <th>Gender</th>\n",
       "      <th>Age</th>\n",
       "      <th>Marital_status</th>\n",
       "      <th>State_names</th>\n",
       "      <th>Segment</th>\n",
       "      <th>Employees_status</th>\n",
       "      <th>Payment_method</th>\n",
       "      <th>Referal</th>\n",
       "      <th>Amount_spent</th>\n",
       "    </tr>\n",
       "  </thead>\n",
       "  <tbody>\n",
       "    <tr>\n",
       "      <th>0</th>\n",
       "      <td>1/1/2019</td>\n",
       "      <td>151200</td>\n",
       "      <td>Female</td>\n",
       "      <td>19.0</td>\n",
       "      <td>Single</td>\n",
       "      <td>Kansas</td>\n",
       "      <td>Basic</td>\n",
       "      <td>Unemployment</td>\n",
       "      <td>Other</td>\n",
       "      <td>1.0</td>\n",
       "      <td>2051.36</td>\n",
       "    </tr>\n",
       "    <tr>\n",
       "      <th>1</th>\n",
       "      <td>1/1/2019</td>\n",
       "      <td>151201</td>\n",
       "      <td>Male</td>\n",
       "      <td>49.0</td>\n",
       "      <td>Single</td>\n",
       "      <td>Illinois</td>\n",
       "      <td>Basic</td>\n",
       "      <td>self-employed</td>\n",
       "      <td>Card</td>\n",
       "      <td>0.0</td>\n",
       "      <td>544.04</td>\n",
       "    </tr>\n",
       "    <tr>\n",
       "      <th>2</th>\n",
       "      <td>1/1/2019</td>\n",
       "      <td>151202</td>\n",
       "      <td>Male</td>\n",
       "      <td>63.0</td>\n",
       "      <td>Married</td>\n",
       "      <td>New Mexico</td>\n",
       "      <td>Basic</td>\n",
       "      <td>workers</td>\n",
       "      <td>PayPal</td>\n",
       "      <td>1.0</td>\n",
       "      <td>1572.60</td>\n",
       "    </tr>\n",
       "    <tr>\n",
       "      <th>3</th>\n",
       "      <td>1/1/2019</td>\n",
       "      <td>151203</td>\n",
       "      <td>NaN</td>\n",
       "      <td>18.0</td>\n",
       "      <td>Single</td>\n",
       "      <td>Virginia</td>\n",
       "      <td>Platinum</td>\n",
       "      <td>workers</td>\n",
       "      <td>Card</td>\n",
       "      <td>1.0</td>\n",
       "      <td>1199.79</td>\n",
       "    </tr>\n",
       "    <tr>\n",
       "      <th>4</th>\n",
       "      <td>1/1/2019</td>\n",
       "      <td>151204</td>\n",
       "      <td>Male</td>\n",
       "      <td>27.0</td>\n",
       "      <td>Single</td>\n",
       "      <td>Connecticut</td>\n",
       "      <td>Basic</td>\n",
       "      <td>self-employed</td>\n",
       "      <td>Card</td>\n",
       "      <td>0.0</td>\n",
       "      <td>NaN</td>\n",
       "    </tr>\n",
       "  </tbody>\n",
       "</table>\n",
       "</div>"
      ],
      "text/plain": [
       "  Transaction_date  Transaction_ID  Gender   Age Marital_status  State_names  \\\n",
       "0         1/1/2019          151200  Female  19.0         Single       Kansas   \n",
       "1         1/1/2019          151201    Male  49.0         Single     Illinois   \n",
       "2         1/1/2019          151202    Male  63.0        Married   New Mexico   \n",
       "3         1/1/2019          151203     NaN  18.0         Single     Virginia   \n",
       "4         1/1/2019          151204    Male  27.0         Single  Connecticut   \n",
       "\n",
       "    Segment Employees_status Payment_method  Referal  Amount_spent  \n",
       "0     Basic     Unemployment          Other      1.0       2051.36  \n",
       "1     Basic    self-employed           Card      0.0        544.04  \n",
       "2     Basic          workers         PayPal      1.0       1572.60  \n",
       "3  Platinum          workers           Card      1.0       1199.79  \n",
       "4     Basic    self-employed           Card      0.0           NaN  "
      ]
     },
     "execution_count": 3,
     "metadata": {},
     "output_type": "execute_result"
    }
   ],
   "source": [
    "data.head()"
   ]
  },
  {
   "cell_type": "markdown",
   "id": "eecd9c98",
   "metadata": {},
   "source": [
    "# Information of the table"
   ]
  },
  {
   "cell_type": "code",
   "execution_count": 4,
   "id": "5922da9f",
   "metadata": {},
   "outputs": [
    {
     "name": "stdout",
     "output_type": "stream",
     "text": [
      "<class 'pandas.core.frame.DataFrame'>\n",
      "RangeIndex: 2512 entries, 0 to 2511\n",
      "Data columns (total 11 columns):\n",
      " #   Column            Non-Null Count  Dtype  \n",
      "---  ------            --------------  -----  \n",
      " 0   Transaction_date  2512 non-null   object \n",
      " 1   Transaction_ID    2512 non-null   int64  \n",
      " 2   Gender            2484 non-null   object \n",
      " 3   Age               2470 non-null   float64\n",
      " 4   Marital_status    2512 non-null   object \n",
      " 5   State_names       2512 non-null   object \n",
      " 6   Segment           2512 non-null   object \n",
      " 7   Employees_status  2486 non-null   object \n",
      " 8   Payment_method    2512 non-null   object \n",
      " 9   Referal           2357 non-null   float64\n",
      " 10  Amount_spent      2270 non-null   float64\n",
      "dtypes: float64(3), int64(1), object(7)\n",
      "memory usage: 216.0+ KB\n"
     ]
    }
   ],
   "source": [
    "data.info()"
   ]
  },
  {
   "cell_type": "code",
   "execution_count": 5,
   "id": "2ae40e7e",
   "metadata": {},
   "outputs": [],
   "source": [
    "# as we can see from the above information that there are total 2512 entries ie that many rows and \n",
    "# 11 columns. there are 3 dtypes float has 3 , integer and object 7. all the values are non null"
   ]
  },
  {
   "cell_type": "markdown",
   "id": "1de790d1",
   "metadata": {},
   "source": [
    "# Description of file"
   ]
  },
  {
   "cell_type": "code",
   "execution_count": 6,
   "id": "9948b346",
   "metadata": {},
   "outputs": [
    {
     "data": {
      "text/html": [
       "<div>\n",
       "<style scoped>\n",
       "    .dataframe tbody tr th:only-of-type {\n",
       "        vertical-align: middle;\n",
       "    }\n",
       "\n",
       "    .dataframe tbody tr th {\n",
       "        vertical-align: top;\n",
       "    }\n",
       "\n",
       "    .dataframe thead th {\n",
       "        text-align: right;\n",
       "    }\n",
       "</style>\n",
       "<table border=\"1\" class=\"dataframe\">\n",
       "  <thead>\n",
       "    <tr style=\"text-align: right;\">\n",
       "      <th></th>\n",
       "      <th>Transaction_ID</th>\n",
       "      <th>Age</th>\n",
       "      <th>Referal</th>\n",
       "      <th>Amount_spent</th>\n",
       "    </tr>\n",
       "  </thead>\n",
       "  <tbody>\n",
       "    <tr>\n",
       "      <th>count</th>\n",
       "      <td>2512.000000</td>\n",
       "      <td>2470.000000</td>\n",
       "      <td>2357.000000</td>\n",
       "      <td>2270.000000</td>\n",
       "    </tr>\n",
       "    <tr>\n",
       "      <th>mean</th>\n",
       "      <td>152443.931131</td>\n",
       "      <td>46.637652</td>\n",
       "      <td>0.652100</td>\n",
       "      <td>1418.422577</td>\n",
       "    </tr>\n",
       "    <tr>\n",
       "      <th>std</th>\n",
       "      <td>724.580482</td>\n",
       "      <td>18.186277</td>\n",
       "      <td>0.476405</td>\n",
       "      <td>878.507451</td>\n",
       "    </tr>\n",
       "    <tr>\n",
       "      <th>min</th>\n",
       "      <td>151200.000000</td>\n",
       "      <td>15.000000</td>\n",
       "      <td>0.000000</td>\n",
       "      <td>2.090000</td>\n",
       "    </tr>\n",
       "    <tr>\n",
       "      <th>25%</th>\n",
       "      <td>151815.750000</td>\n",
       "      <td>32.000000</td>\n",
       "      <td>0.000000</td>\n",
       "      <td>678.192500</td>\n",
       "    </tr>\n",
       "    <tr>\n",
       "      <th>50%</th>\n",
       "      <td>152443.500000</td>\n",
       "      <td>47.000000</td>\n",
       "      <td>1.000000</td>\n",
       "      <td>1341.435000</td>\n",
       "    </tr>\n",
       "    <tr>\n",
       "      <th>75%</th>\n",
       "      <td>153071.250000</td>\n",
       "      <td>62.000000</td>\n",
       "      <td>1.000000</td>\n",
       "      <td>2038.102500</td>\n",
       "    </tr>\n",
       "    <tr>\n",
       "      <th>max</th>\n",
       "      <td>153699.000000</td>\n",
       "      <td>78.000000</td>\n",
       "      <td>1.000000</td>\n",
       "      <td>2999.980000</td>\n",
       "    </tr>\n",
       "  </tbody>\n",
       "</table>\n",
       "</div>"
      ],
      "text/plain": [
       "       Transaction_ID          Age      Referal  Amount_spent\n",
       "count     2512.000000  2470.000000  2357.000000   2270.000000\n",
       "mean    152443.931131    46.637652     0.652100   1418.422577\n",
       "std        724.580482    18.186277     0.476405    878.507451\n",
       "min     151200.000000    15.000000     0.000000      2.090000\n",
       "25%     151815.750000    32.000000     0.000000    678.192500\n",
       "50%     152443.500000    47.000000     1.000000   1341.435000\n",
       "75%     153071.250000    62.000000     1.000000   2038.102500\n",
       "max     153699.000000    78.000000     1.000000   2999.980000"
      ]
     },
     "execution_count": 6,
     "metadata": {},
     "output_type": "execute_result"
    }
   ],
   "source": [
    "data.describe()"
   ]
  },
  {
   "cell_type": "code",
   "execution_count": 7,
   "id": "0ea57f12",
   "metadata": {},
   "outputs": [],
   "source": [
    "# from above decription we can see that the \n",
    "# average age of customers is 46, the youngest customers are of 15 yrs and the oldest customer who \n",
    "# visits is of 78 age. the 50 percentile age is 47 ie half are above it and half below it\n",
    "# the average amount spend by any customer is 1418 rupees , the lowest amount spend is 2 and similarly\n",
    "# the max amount spend is 3k. the 50 percentile amount is 1341 ie half of them lie above it and half \n",
    "# below it\n",
    "# the avg referal is of 0.65 and the max referal done is 1 ."
   ]
  },
  {
   "cell_type": "markdown",
   "id": "56c5b5ef",
   "metadata": {},
   "source": [
    "# Viewing NaN values"
   ]
  },
  {
   "cell_type": "code",
   "execution_count": 8,
   "id": "b1351b39",
   "metadata": {},
   "outputs": [
    {
     "data": {
      "text/plain": [
       "Transaction_date      0\n",
       "Transaction_ID        0\n",
       "Gender               28\n",
       "Age                  42\n",
       "Marital_status        0\n",
       "State_names           0\n",
       "Segment               0\n",
       "Employees_status     26\n",
       "Payment_method        0\n",
       "Referal             155\n",
       "Amount_spent        242\n",
       "dtype: int64"
      ]
     },
     "execution_count": 8,
     "metadata": {},
     "output_type": "execute_result"
    }
   ],
   "source": [
    "data.isna().sum()"
   ]
  },
  {
   "cell_type": "markdown",
   "id": "de3005b5",
   "metadata": {},
   "source": [
    "# Names of all States"
   ]
  },
  {
   "cell_type": "code",
   "execution_count": 9,
   "id": "8312511b",
   "metadata": {},
   "outputs": [
    {
     "data": {
      "text/plain": [
       "array(['Kansas', 'Illinois', 'New Mexico', 'Virginia', 'Connecticut',\n",
       "       'Hawaii', 'Florida', 'Vermont', 'California', 'Colorado', 'Iowa',\n",
       "       'South Carolina', 'New York', 'Maine', 'Maryland', 'Missouri',\n",
       "       'North Dakota', 'Ohio', 'Nebraska', 'Montana', 'Indiana',\n",
       "       'Wisconsin', 'Alabama', 'Arkansas', 'Pennsylvania',\n",
       "       'New Hampshire', 'Washington', 'Texas', 'Kentucky',\n",
       "       'Massachusetts', 'Wyoming', 'Louisiana', 'North Carolina',\n",
       "       'Rhode Island', 'West Virginia', 'Tennessee', 'Oregon', 'Alaska',\n",
       "       'Oklahoma', 'Nevada', 'New Jersey', 'Michigan', 'Utah', 'Arizona',\n",
       "       'South Dakota', 'Georgia', 'Idaho', 'Mississippi', 'Minnesota',\n",
       "       'Delaware'], dtype=object)"
      ]
     },
     "execution_count": 9,
     "metadata": {},
     "output_type": "execute_result"
    }
   ],
   "source": [
    "data.State_names.unique()"
   ]
  },
  {
   "cell_type": "code",
   "execution_count": 10,
   "id": "5e40ac88",
   "metadata": {},
   "outputs": [
    {
     "data": {
      "text/plain": [
       "50"
      ]
     },
     "execution_count": 10,
     "metadata": {},
     "output_type": "execute_result"
    }
   ],
   "source": [
    "data.State_names.nunique()   #number of unique state names"
   ]
  },
  {
   "cell_type": "markdown",
   "id": "d0357770",
   "metadata": {},
   "source": [
    "# Most purschases from state"
   ]
  },
  {
   "cell_type": "code",
   "execution_count": 11,
   "id": "8e13120e",
   "metadata": {},
   "outputs": [
    {
     "data": {
      "text/plain": [
       "Illinois          67\n",
       "Georgia           64\n",
       "Massachusetts     63\n",
       "Maine             62\n",
       "Kentucky          59\n",
       "Minnesota         59\n",
       "Missouri          57\n",
       "Arizona           56\n",
       "Delaware          56\n",
       "Arkansas          55\n",
       "Nevada            55\n",
       "New York          55\n",
       "California        55\n",
       "New Mexico        55\n",
       "Vermont           54\n",
       "West Virginia     54\n",
       "New Jersey        53\n",
       "Oregon            53\n",
       "Florida           53\n",
       "Connecticut       52\n",
       "Washington        52\n",
       "Pennsylvania      52\n",
       "Colorado          52\n",
       "South Dakota      52\n",
       "Michigan          52\n",
       "Iowa              51\n",
       "Rhode Island      51\n",
       "Louisiana         49\n",
       "Texas             49\n",
       "Montana           48\n",
       "North Carolina    46\n",
       "Virginia          46\n",
       "Hawaii            46\n",
       "Wisconsin         45\n",
       "Idaho             45\n",
       "Maryland          45\n",
       "South Carolina    45\n",
       "Wyoming           44\n",
       "Mississippi       44\n",
       "Oklahoma          44\n",
       "Utah              43\n",
       "New Hampshire     43\n",
       "Indiana           43\n",
       "Ohio              43\n",
       "Alabama           42\n",
       "Alaska            41\n",
       "Nebraska          41\n",
       "North Dakota      41\n",
       "Kansas            41\n",
       "Tennessee         39\n",
       "Name: State_names, dtype: int64"
      ]
     },
     "execution_count": 11,
     "metadata": {},
     "output_type": "execute_result"
    }
   ],
   "source": [
    "data['State_names'].value_counts()"
   ]
  },
  {
   "cell_type": "markdown",
   "id": "caa5c8db",
   "metadata": {},
   "source": [
    "# Most purchases according to segment"
   ]
  },
  {
   "cell_type": "code",
   "execution_count": 12,
   "id": "7d195d35",
   "metadata": {},
   "outputs": [
    {
     "data": {
      "text/plain": [
       "Basic       1136\n",
       "Silver       490\n",
       "Platinum     443\n",
       "Gold         247\n",
       "Missing      196\n",
       "Name: Segment, dtype: int64"
      ]
     },
     "execution_count": 12,
     "metadata": {},
     "output_type": "execute_result"
    }
   ],
   "source": [
    "data['Segment'].value_counts()"
   ]
  },
  {
   "cell_type": "markdown",
   "id": "388b3955",
   "metadata": {},
   "source": [
    "# Representation Segment wise"
   ]
  },
  {
   "cell_type": "code",
   "execution_count": 13,
   "id": "e9626854",
   "metadata": {},
   "outputs": [
    {
     "data": {
      "text/plain": [
       "[]"
      ]
     },
     "execution_count": 13,
     "metadata": {},
     "output_type": "execute_result"
    },
    {
     "data": {
      "image/png": "[encoded data removed]",
      "text/plain": [
       "<Figure size 360x360 with 1 Axes>"
      ]
     },
     "metadata": {
      "needs_background": "light"
     },
     "output_type": "display_data"
    }
   ],
   "source": [
    "plt.figure(figsize=(5,5))\n",
    "sns.countplot(data=data,y=data.Segment)\n",
    "plt.plot()"
   ]
  },
  {
   "cell_type": "markdown",
   "id": "90607d8b",
   "metadata": {},
   "source": [
    "# Which gender shops more often"
   ]
  },
  {
   "cell_type": "code",
   "execution_count": 14,
   "id": "663dba83",
   "metadata": {},
   "outputs": [
    {
     "data": {
      "text/plain": [
       "'Female'"
      ]
     },
     "execution_count": 14,
     "metadata": {},
     "output_type": "execute_result"
    }
   ],
   "source": [
    "data['Gender'].value_counts().idxmax()"
   ]
  },
  {
   "cell_type": "markdown",
   "id": "1bdb6e76",
   "metadata": {},
   "source": [
    "# Which gender shops the least"
   ]
  },
  {
   "cell_type": "code",
   "execution_count": 15,
   "id": "2ba7c0fc",
   "metadata": {},
   "outputs": [
    {
     "data": {
      "text/plain": [
       "'Male'"
      ]
     },
     "execution_count": 15,
     "metadata": {},
     "output_type": "execute_result"
    }
   ],
   "source": [
    "data['Gender'].value_counts().idxmin()"
   ]
  },
  {
   "cell_type": "markdown",
   "id": "e6e3310c",
   "metadata": {},
   "source": [
    "# Most commonly used payment method"
   ]
  },
  {
   "cell_type": "code",
   "execution_count": 16,
   "id": "8e116d1a",
   "metadata": {},
   "outputs": [
    {
     "data": {
      "text/plain": [
       "'PayPal'"
      ]
     },
     "execution_count": 16,
     "metadata": {},
     "output_type": "execute_result"
    }
   ],
   "source": [
    "data['Payment_method'].value_counts().idxmax()"
   ]
  },
  {
   "cell_type": "markdown",
   "id": "d9656810",
   "metadata": {},
   "source": [
    "# Lowest preffered payment method"
   ]
  },
  {
   "cell_type": "code",
   "execution_count": 17,
   "id": "fa2b4191",
   "metadata": {},
   "outputs": [
    {
     "data": {
      "text/plain": [
       "'Other'"
      ]
     },
     "execution_count": 17,
     "metadata": {},
     "output_type": "execute_result"
    }
   ],
   "source": [
    "data['Payment_method'].value_counts().idxmin()"
   ]
  },
  {
   "cell_type": "markdown",
   "id": "93c8e8ca",
   "metadata": {},
   "source": [
    "# Representation of Payment_method"
   ]
  },
  {
   "cell_type": "code",
   "execution_count": 18,
   "id": "3f07415b",
   "metadata": {},
   "outputs": [
    {
     "data": {
      "image/png": "[encoded data removed]",
      "text/plain": [
       "<Figure size 360x360 with 1 Axes>"
      ]
     },
     "metadata": {
      "needs_background": "light"
     },
     "output_type": "display_data"
    }
   ],
   "source": [
    "plt.figure(figsize=(5,5))         \n",
    "sns.countplot(data=data,y='Payment_method')\n",
    "plt.show()"
   ]
  },
  {
   "cell_type": "markdown",
   "id": "479abd20",
   "metadata": {},
   "source": [
    "# Representation of Payment_method wrt Gender"
   ]
  },
  {
   "cell_type": "code",
   "execution_count": 19,
   "id": "9f38935a",
   "metadata": {},
   "outputs": [
    {
     "data": {
      "image/png": "[encoded data removed]",
      "text/plain": [
       "<Figure size 432x288 with 1 Axes>"
      ]
     },
     "metadata": {
      "needs_background": "light"
     },
     "output_type": "display_data"
    }
   ],
   "source": [
    "sns.countplot(data=data, x=\"Payment_method\",hue=\"Gender\")\n",
    "plt.show()"
   ]
  },
  {
   "cell_type": "markdown",
   "id": "b704f32c",
   "metadata": {},
   "source": [
    "# Payment method wrt marital status"
   ]
  },
  {
   "cell_type": "code",
   "execution_count": 20,
   "id": "133cdfca",
   "metadata": {},
   "outputs": [
    {
     "data": {
      "text/plain": [
       "Text(0.5, 1.0, 'payment method wrt marital status')"
      ]
     },
     "execution_count": 20,
     "metadata": {},
     "output_type": "execute_result"
    },
    {
     "data": {
      "image/png": "[encoded data removed]",
      "text/plain": [
       "<Figure size 432x288 with 1 Axes>"
      ]
     },
     "metadata": {
      "needs_background": "light"
     },
     "output_type": "display_data"
    }
   ],
   "source": [
    "sns.countplot(data=data,x='Marital_status',hue='Payment_method')\n",
    "plt.title('payment method wrt marital status')"
   ]
  },
  {
   "cell_type": "markdown",
   "id": "8d855e58",
   "metadata": {},
   "source": [
    "# Which maritial status shops the most"
   ]
  },
  {
   "cell_type": "code",
   "execution_count": 21,
   "id": "55db23d7",
   "metadata": {},
   "outputs": [
    {
     "data": {
      "text/plain": [
       "'Married'"
      ]
     },
     "execution_count": 21,
     "metadata": {},
     "output_type": "execute_result"
    }
   ],
   "source": [
    "data['Marital_status'].value_counts().idxmax()"
   ]
  },
  {
   "cell_type": "markdown",
   "id": "573d9384",
   "metadata": {},
   "source": [
    "# Which maritial status shops the least"
   ]
  },
  {
   "cell_type": "code",
   "execution_count": 22,
   "id": "8a5e1fab",
   "metadata": {},
   "outputs": [
    {
     "data": {
      "text/plain": [
       "'Single'"
      ]
     },
     "execution_count": 22,
     "metadata": {},
     "output_type": "execute_result"
    }
   ],
   "source": [
    "data['Marital_status'].value_counts().idxmin()"
   ]
  },
  {
   "cell_type": "markdown",
   "id": "fa3af683",
   "metadata": {},
   "source": [
    "# States_name count "
   ]
  },
  {
   "cell_type": "code",
   "execution_count": 23,
   "id": "12b33c66",
   "metadata": {},
   "outputs": [
    {
     "data": {
      "text/plain": [
       "[]"
      ]
     },
     "execution_count": 23,
     "metadata": {},
     "output_type": "execute_result"
    },
    {
     "data": {
      "image/png": "[encoded data removed]",
      "text/plain": [
       "<Figure size 720x720 with 1 Axes>"
      ]
     },
     "metadata": {
      "needs_background": "light"
     },
     "output_type": "display_data"
    }
   ],
   "source": [
    "plt.figure(figsize=(10,10))\n",
    "sns.countplot(data=data,y=data.State_names)\n",
    "plt.plot()"
   ]
  },
  {
   "cell_type": "markdown",
   "id": "479e319f",
   "metadata": {},
   "source": [
    "# What is the employee status who shops the most"
   ]
  },
  {
   "cell_type": "code",
   "execution_count": 24,
   "id": "137e21f9",
   "metadata": {},
   "outputs": [
    {
     "data": {
      "text/plain": [
       "'Employees'"
      ]
     },
     "execution_count": 24,
     "metadata": {},
     "output_type": "execute_result"
    }
   ],
   "source": [
    "data['Employees_status'].value_counts().idxmax()"
   ]
  },
  {
   "cell_type": "markdown",
   "id": "a4f575ed",
   "metadata": {},
   "source": [
    "# What is the employee status who shops the least"
   ]
  },
  {
   "cell_type": "code",
   "execution_count": 25,
   "id": "75e99569",
   "metadata": {},
   "outputs": [
    {
     "data": {
      "text/plain": [
       "'Unemployment'"
      ]
     },
     "execution_count": 25,
     "metadata": {},
     "output_type": "execute_result"
    }
   ],
   "source": [
    "data['Employees_status'].value_counts().idxmin()"
   ]
  },
  {
   "cell_type": "markdown",
   "id": "91f41cf9",
   "metadata": {},
   "source": [
    "# List of those who gave 1 referal"
   ]
  },
  {
   "cell_type": "code",
   "execution_count": 26,
   "id": "67990efc",
   "metadata": {},
   "outputs": [
    {
     "data": {
      "text/html": [
       "<div>\n",
       "<style scoped>\n",
       "    .dataframe tbody tr th:only-of-type {\n",
       "        vertical-align: middle;\n",
       "    }\n",
       "\n",
       "    .dataframe tbody tr th {\n",
       "        vertical-align: top;\n",
       "    }\n",
       "\n",
       "    .dataframe thead th {\n",
       "        text-align: right;\n",
       "    }\n",
       "</style>\n",
       "<table border=\"1\" class=\"dataframe\">\n",
       "  <thead>\n",
       "    <tr style=\"text-align: right;\">\n",
       "      <th></th>\n",
       "      <th>Transaction_date</th>\n",
       "      <th>Transaction_ID</th>\n",
       "      <th>Gender</th>\n",
       "      <th>Age</th>\n",
       "      <th>Marital_status</th>\n",
       "      <th>State_names</th>\n",
       "      <th>Segment</th>\n",
       "      <th>Employees_status</th>\n",
       "      <th>Payment_method</th>\n",
       "      <th>Referal</th>\n",
       "      <th>Amount_spent</th>\n",
       "    </tr>\n",
       "  </thead>\n",
       "  <tbody>\n",
       "    <tr>\n",
       "      <th>0</th>\n",
       "      <td>1/1/2019</td>\n",
       "      <td>151200</td>\n",
       "      <td>Female</td>\n",
       "      <td>19.0</td>\n",
       "      <td>Single</td>\n",
       "      <td>Kansas</td>\n",
       "      <td>Basic</td>\n",
       "      <td>Unemployment</td>\n",
       "      <td>Other</td>\n",
       "      <td>1.0</td>\n",
       "      <td>2051.36</td>\n",
       "    </tr>\n",
       "    <tr>\n",
       "      <th>2</th>\n",
       "      <td>1/1/2019</td>\n",
       "      <td>151202</td>\n",
       "      <td>Male</td>\n",
       "      <td>63.0</td>\n",
       "      <td>Married</td>\n",
       "      <td>New Mexico</td>\n",
       "      <td>Basic</td>\n",
       "      <td>workers</td>\n",
       "      <td>PayPal</td>\n",
       "      <td>1.0</td>\n",
       "      <td>1572.60</td>\n",
       "    </tr>\n",
       "    <tr>\n",
       "      <th>3</th>\n",
       "      <td>1/1/2019</td>\n",
       "      <td>151203</td>\n",
       "      <td>NaN</td>\n",
       "      <td>18.0</td>\n",
       "      <td>Single</td>\n",
       "      <td>Virginia</td>\n",
       "      <td>Platinum</td>\n",
       "      <td>workers</td>\n",
       "      <td>Card</td>\n",
       "      <td>1.0</td>\n",
       "      <td>1199.79</td>\n",
       "    </tr>\n",
       "    <tr>\n",
       "      <th>5</th>\n",
       "      <td>1/3/2019</td>\n",
       "      <td>151205</td>\n",
       "      <td>Male</td>\n",
       "      <td>71.0</td>\n",
       "      <td>Single</td>\n",
       "      <td>Hawaii</td>\n",
       "      <td>Basic</td>\n",
       "      <td>Employees</td>\n",
       "      <td>PayPal</td>\n",
       "      <td>1.0</td>\n",
       "      <td>2922.66</td>\n",
       "    </tr>\n",
       "    <tr>\n",
       "      <th>6</th>\n",
       "      <td>1/3/2019</td>\n",
       "      <td>151206</td>\n",
       "      <td>Female</td>\n",
       "      <td>34.0</td>\n",
       "      <td>Married</td>\n",
       "      <td>New Mexico</td>\n",
       "      <td>Platinum</td>\n",
       "      <td>Employees</td>\n",
       "      <td>PayPal</td>\n",
       "      <td>1.0</td>\n",
       "      <td>1481.42</td>\n",
       "    </tr>\n",
       "    <tr>\n",
       "      <th>...</th>\n",
       "      <td>...</td>\n",
       "      <td>...</td>\n",
       "      <td>...</td>\n",
       "      <td>...</td>\n",
       "      <td>...</td>\n",
       "      <td>...</td>\n",
       "      <td>...</td>\n",
       "      <td>...</td>\n",
       "      <td>...</td>\n",
       "      <td>...</td>\n",
       "      <td>...</td>\n",
       "    </tr>\n",
       "    <tr>\n",
       "      <th>2504</th>\n",
       "      <td>4/30/2021</td>\n",
       "      <td>153692</td>\n",
       "      <td>Male</td>\n",
       "      <td>34.0</td>\n",
       "      <td>Married</td>\n",
       "      <td>Wyoming</td>\n",
       "      <td>Basic</td>\n",
       "      <td>self-employed</td>\n",
       "      <td>Other</td>\n",
       "      <td>1.0</td>\n",
       "      <td>1691.57</td>\n",
       "    </tr>\n",
       "    <tr>\n",
       "      <th>2506</th>\n",
       "      <td>4/30/2021</td>\n",
       "      <td>153694</td>\n",
       "      <td>Male</td>\n",
       "      <td>34.0</td>\n",
       "      <td>Single</td>\n",
       "      <td>Florida</td>\n",
       "      <td>Missing</td>\n",
       "      <td>Employees</td>\n",
       "      <td>Other</td>\n",
       "      <td>1.0</td>\n",
       "      <td>286.82</td>\n",
       "    </tr>\n",
       "    <tr>\n",
       "      <th>2508</th>\n",
       "      <td>5/1/2021</td>\n",
       "      <td>153696</td>\n",
       "      <td>Female</td>\n",
       "      <td>36.0</td>\n",
       "      <td>Married</td>\n",
       "      <td>Hawaii</td>\n",
       "      <td>Silver</td>\n",
       "      <td>self-employed</td>\n",
       "      <td>PayPal</td>\n",
       "      <td>1.0</td>\n",
       "      <td>708.88</td>\n",
       "    </tr>\n",
       "    <tr>\n",
       "      <th>2509</th>\n",
       "      <td>5/1/2021</td>\n",
       "      <td>153697</td>\n",
       "      <td>Male</td>\n",
       "      <td>22.0</td>\n",
       "      <td>Single</td>\n",
       "      <td>South Carolina</td>\n",
       "      <td>Basic</td>\n",
       "      <td>workers</td>\n",
       "      <td>PayPal</td>\n",
       "      <td>1.0</td>\n",
       "      <td>2030.07</td>\n",
       "    </tr>\n",
       "    <tr>\n",
       "      <th>2511</th>\n",
       "      <td>5/1/2021</td>\n",
       "      <td>153699</td>\n",
       "      <td>Male</td>\n",
       "      <td>48.0</td>\n",
       "      <td>Single</td>\n",
       "      <td>California</td>\n",
       "      <td>Silver</td>\n",
       "      <td>workers</td>\n",
       "      <td>PayPal</td>\n",
       "      <td>1.0</td>\n",
       "      <td>1073.15</td>\n",
       "    </tr>\n",
       "  </tbody>\n",
       "</table>\n",
       "<p>1537 rows × 11 columns</p>\n",
       "</div>"
      ],
      "text/plain": [
       "     Transaction_date  Transaction_ID  Gender   Age Marital_status  \\\n",
       "0            1/1/2019          151200  Female  19.0         Single   \n",
       "2            1/1/2019          151202    Male  63.0        Married   \n",
       "3            1/1/2019          151203     NaN  18.0         Single   \n",
       "5            1/3/2019          151205    Male  71.0         Single   \n",
       "6            1/3/2019          151206  Female  34.0        Married   \n",
       "...               ...             ...     ...   ...            ...   \n",
       "2504        4/30/2021          153692    Male  34.0        Married   \n",
       "2506        4/30/2021          153694    Male  34.0         Single   \n",
       "2508         5/1/2021          153696  Female  36.0        Married   \n",
       "2509         5/1/2021          153697    Male  22.0         Single   \n",
       "2511         5/1/2021          153699    Male  48.0         Single   \n",
       "\n",
       "         State_names   Segment Employees_status Payment_method  Referal  \\\n",
       "0             Kansas     Basic     Unemployment          Other      1.0   \n",
       "2         New Mexico     Basic          workers         PayPal      1.0   \n",
       "3           Virginia  Platinum          workers           Card      1.0   \n",
       "5             Hawaii     Basic        Employees         PayPal      1.0   \n",
       "6         New Mexico  Platinum        Employees         PayPal      1.0   \n",
       "...              ...       ...              ...            ...      ...   \n",
       "2504         Wyoming     Basic    self-employed          Other      1.0   \n",
       "2506         Florida   Missing        Employees          Other      1.0   \n",
       "2508          Hawaii    Silver    self-employed         PayPal      1.0   \n",
       "2509  South Carolina     Basic          workers         PayPal      1.0   \n",
       "2511      California    Silver          workers         PayPal      1.0   \n",
       "\n",
       "      Amount_spent  \n",
       "0          2051.36  \n",
       "2          1572.60  \n",
       "3          1199.79  \n",
       "5          2922.66  \n",
       "6          1481.42  \n",
       "...            ...  \n",
       "2504       1691.57  \n",
       "2506        286.82  \n",
       "2508        708.88  \n",
       "2509       2030.07  \n",
       "2511       1073.15  \n",
       "\n",
       "[1537 rows x 11 columns]"
      ]
     },
     "execution_count": 26,
     "metadata": {},
     "output_type": "execute_result"
    }
   ],
   "source": [
    "data[data['Referal']==1]"
   ]
  },
  {
   "cell_type": "markdown",
   "id": "5c6d67fc",
   "metadata": {},
   "source": [
    "# Mean amount spent according to Employee_status"
   ]
  },
  {
   "cell_type": "code",
   "execution_count": 27,
   "id": "9cdfbe58",
   "metadata": {},
   "outputs": [
    {
     "data": {
      "text/plain": [
       "Employees_status\n",
       "Employees        1440.767672\n",
       "Unemployment     1352.092624\n",
       "self-employed    1459.886205\n",
       "workers          1392.765160\n",
       "Name: Amount_spent, dtype: float64"
      ]
     },
     "execution_count": 27,
     "metadata": {},
     "output_type": "execute_result"
    }
   ],
   "source": [
    "data.groupby(\"Employees_status\").mean()[\"Amount_spent\"]"
   ]
  },
  {
   "cell_type": "markdown",
   "id": "a7c8c2bd",
   "metadata": {},
   "source": [
    "# Max amount spent according to employee_status"
   ]
  },
  {
   "cell_type": "code",
   "execution_count": 28,
   "id": "40382e44",
   "metadata": {},
   "outputs": [
    {
     "data": {
      "text/plain": [
       "Employees_status\n",
       "Employees        2997.21\n",
       "Unemployment     2951.27\n",
       "self-employed    2998.62\n",
       "workers          2999.98\n",
       "Name: Amount_spent, dtype: float64"
      ]
     },
     "execution_count": 28,
     "metadata": {},
     "output_type": "execute_result"
    }
   ],
   "source": [
    "data.groupby(\"Employees_status\").max()[\"Amount_spent\"]"
   ]
  },
  {
   "cell_type": "markdown",
   "id": "bb4a7e16",
   "metadata": {},
   "source": [
    "# Representation of employee status wrt gender"
   ]
  },
  {
   "cell_type": "code",
   "execution_count": 29,
   "id": "802c6208",
   "metadata": {},
   "outputs": [
    {
     "data": {
      "text/plain": [
       "Text(0.5, 1.0, 'Employees status wrt Gender')"
      ]
     },
     "execution_count": 29,
     "metadata": {},
     "output_type": "execute_result"
    },
    {
     "data": {
      "image/png": "[encoded data removed]",
      "text/plain": [
       "<Figure size 432x288 with 1 Axes>"
      ]
     },
     "metadata": {
      "needs_background": "light"
     },
     "output_type": "display_data"
    }
   ],
   "source": [
    "sns.countplot(data=data,x='Gender',hue='Employees_status')\n",
    "plt.title('Employees status wrt Gender')"
   ]
  },
  {
   "cell_type": "markdown",
   "id": "3fd7f133",
   "metadata": {},
   "source": [
    "# State_names and its employees_status value count ie the no of employees,workers,self_employed and unemployed people"
   ]
  },
  {
   "cell_type": "code",
   "execution_count": 30,
   "id": "467bc13f",
   "metadata": {},
   "outputs": [
    {
     "data": {
      "text/plain": [
       "State_names  Employees_status\n",
       "Alabama      Employees           16\n",
       "             workers             15\n",
       "             self-employed        7\n",
       "             Unemployment         4\n",
       "Alaska       Employees           17\n",
       "             workers             17\n",
       "             self-employed        4\n",
       "             Unemployment         3\n",
       "Name: Employees_status, dtype: int64"
      ]
     },
     "execution_count": 30,
     "metadata": {},
     "output_type": "execute_result"
    }
   ],
   "source": [
    "data.groupby('State_names')['Employees_status'].value_counts().head(8)"
   ]
  },
  {
   "cell_type": "markdown",
   "id": "9619b955",
   "metadata": {},
   "source": [
    "# State names wrt its employee status representation on pie chart of top 2 states"
   ]
  },
  {
   "cell_type": "code",
   "execution_count": 31,
   "id": "32595b99",
   "metadata": {},
   "outputs": [
    {
     "data": {
      "image/png": "[encoded data removed]",
      "text/plain": [
       "<Figure size 504x504 with 1 Axes>"
      ]
     },
     "metadata": {},
     "output_type": "display_data"
    }
   ],
   "source": [
    "plt.figure(figsize=(7,7))\n",
    "data.groupby('State_names')['Employees_status'].value_counts().head(8).plot(kind=\"pie\",autopct=\"%.2f%%\")\n",
    "plt.show()"
   ]
  },
  {
   "cell_type": "markdown",
   "id": "af5b4668",
   "metadata": {},
   "source": [
    "# Representation of Employees type"
   ]
  },
  {
   "cell_type": "code",
   "execution_count": 32,
   "id": "eabbbb05",
   "metadata": {},
   "outputs": [
    {
     "data": {
      "text/plain": [
       "<AxesSubplot:xlabel='Employees_status', ylabel='count'>"
      ]
     },
     "execution_count": 32,
     "metadata": {},
     "output_type": "execute_result"
    },
    {
     "data": {
      "image/png": "[encoded data removed]",
      "text/plain": [
       "<Figure size 432x288 with 1 Axes>"
      ]
     },
     "metadata": {
      "needs_background": "light"
     },
     "output_type": "display_data"
    }
   ],
   "source": [
    "sns.countplot(data[\"Employees_status\"])"
   ]
  },
  {
   "cell_type": "markdown",
   "id": "d4720d8d",
   "metadata": {},
   "source": [
    "# Date on which maximum amount was spent"
   ]
  },
  {
   "cell_type": "code",
   "execution_count": 33,
   "id": "68e0dfb6",
   "metadata": {},
   "outputs": [
    {
     "data": {
      "text/plain": [
       "'1/25/2019'"
      ]
     },
     "execution_count": 33,
     "metadata": {},
     "output_type": "execute_result"
    }
   ],
   "source": [
    "data.groupby('Transaction_date')['Amount_spent'].value_counts().idxmax()[0]"
   ]
  },
  {
   "cell_type": "markdown",
   "id": "8b6c5e3e",
   "metadata": {},
   "source": [
    "# Date on which least amount was spent"
   ]
  },
  {
   "cell_type": "code",
   "execution_count": 34,
   "id": "28981b84",
   "metadata": {},
   "outputs": [
    {
     "data": {
      "text/plain": [
       "'1/1/2019'"
      ]
     },
     "execution_count": 34,
     "metadata": {},
     "output_type": "execute_result"
    }
   ],
   "source": [
    "data.groupby('Transaction_date')['Amount_spent'].value_counts().idxmin()[0]"
   ]
  },
  {
   "cell_type": "markdown",
   "id": "54f2e180",
   "metadata": {},
   "source": [
    "# Date on which maximum transactions were made"
   ]
  },
  {
   "cell_type": "code",
   "execution_count": 35,
   "id": "fa17a170",
   "metadata": {},
   "outputs": [
    {
     "data": {
      "text/html": [
       "<div>\n",
       "<style scoped>\n",
       "    .dataframe tbody tr th:only-of-type {\n",
       "        vertical-align: middle;\n",
       "    }\n",
       "\n",
       "    .dataframe tbody tr th {\n",
       "        vertical-align: top;\n",
       "    }\n",
       "\n",
       "    .dataframe thead th {\n",
       "        text-align: right;\n",
       "    }\n",
       "</style>\n",
       "<table border=\"1\" class=\"dataframe\">\n",
       "  <thead>\n",
       "    <tr style=\"text-align: right;\">\n",
       "      <th></th>\n",
       "      <th>Transaction_date</th>\n",
       "      <th>Transaction_ID</th>\n",
       "      <th>Gender</th>\n",
       "      <th>Age</th>\n",
       "      <th>Marital_status</th>\n",
       "      <th>State_names</th>\n",
       "      <th>Segment</th>\n",
       "      <th>Employees_status</th>\n",
       "      <th>Payment_method</th>\n",
       "      <th>Referal</th>\n",
       "      <th>Amount_spent</th>\n",
       "    </tr>\n",
       "  </thead>\n",
       "  <tbody>\n",
       "    <tr>\n",
       "      <th>1839</th>\n",
       "      <td>9/9/2020</td>\n",
       "      <td>153027</td>\n",
       "      <td>Female</td>\n",
       "      <td>35.0</td>\n",
       "      <td>Single</td>\n",
       "      <td>Nevada</td>\n",
       "      <td>Basic</td>\n",
       "      <td>self-employed</td>\n",
       "      <td>PayPal</td>\n",
       "      <td>1.0</td>\n",
       "      <td>2819.10</td>\n",
       "    </tr>\n",
       "    <tr>\n",
       "      <th>1840</th>\n",
       "      <td>9/9/2020</td>\n",
       "      <td>153028</td>\n",
       "      <td>Female</td>\n",
       "      <td>63.0</td>\n",
       "      <td>Married</td>\n",
       "      <td>Arizona</td>\n",
       "      <td>Platinum</td>\n",
       "      <td>Employees</td>\n",
       "      <td>Other</td>\n",
       "      <td>1.0</td>\n",
       "      <td>104.94</td>\n",
       "    </tr>\n",
       "    <tr>\n",
       "      <th>1841</th>\n",
       "      <td>9/9/2020</td>\n",
       "      <td>153029</td>\n",
       "      <td>Female</td>\n",
       "      <td>34.0</td>\n",
       "      <td>Married</td>\n",
       "      <td>Kentucky</td>\n",
       "      <td>Basic</td>\n",
       "      <td>workers</td>\n",
       "      <td>PayPal</td>\n",
       "      <td>1.0</td>\n",
       "      <td>520.58</td>\n",
       "    </tr>\n",
       "    <tr>\n",
       "      <th>1842</th>\n",
       "      <td>9/9/2020</td>\n",
       "      <td>153030</td>\n",
       "      <td>Male</td>\n",
       "      <td>68.0</td>\n",
       "      <td>Married</td>\n",
       "      <td>Indiana</td>\n",
       "      <td>Basic</td>\n",
       "      <td>workers</td>\n",
       "      <td>Card</td>\n",
       "      <td>1.0</td>\n",
       "      <td>1836.90</td>\n",
       "    </tr>\n",
       "    <tr>\n",
       "      <th>1843</th>\n",
       "      <td>9/9/2020</td>\n",
       "      <td>153031</td>\n",
       "      <td>Female</td>\n",
       "      <td>73.0</td>\n",
       "      <td>Single</td>\n",
       "      <td>Idaho</td>\n",
       "      <td>Basic</td>\n",
       "      <td>self-employed</td>\n",
       "      <td>Card</td>\n",
       "      <td>1.0</td>\n",
       "      <td>2816.59</td>\n",
       "    </tr>\n",
       "    <tr>\n",
       "      <th>1844</th>\n",
       "      <td>9/9/2020</td>\n",
       "      <td>153032</td>\n",
       "      <td>Female</td>\n",
       "      <td>24.0</td>\n",
       "      <td>Married</td>\n",
       "      <td>Wyoming</td>\n",
       "      <td>Basic</td>\n",
       "      <td>Unemployment</td>\n",
       "      <td>PayPal</td>\n",
       "      <td>1.0</td>\n",
       "      <td>16.27</td>\n",
       "    </tr>\n",
       "  </tbody>\n",
       "</table>\n",
       "</div>"
      ],
      "text/plain": [
       "     Transaction_date  Transaction_ID  Gender   Age Marital_status  \\\n",
       "1839         9/9/2020          153027  Female  35.0         Single   \n",
       "1840         9/9/2020          153028  Female  63.0        Married   \n",
       "1841         9/9/2020          153029  Female  34.0        Married   \n",
       "1842         9/9/2020          153030    Male  68.0        Married   \n",
       "1843         9/9/2020          153031  Female  73.0         Single   \n",
       "1844         9/9/2020          153032  Female  24.0        Married   \n",
       "\n",
       "     State_names   Segment Employees_status Payment_method  Referal  \\\n",
       "1839      Nevada     Basic    self-employed         PayPal      1.0   \n",
       "1840     Arizona  Platinum        Employees          Other      1.0   \n",
       "1841    Kentucky     Basic          workers         PayPal      1.0   \n",
       "1842     Indiana     Basic          workers           Card      1.0   \n",
       "1843       Idaho     Basic    self-employed           Card      1.0   \n",
       "1844     Wyoming     Basic     Unemployment         PayPal      1.0   \n",
       "\n",
       "      Amount_spent  \n",
       "1839       2819.10  \n",
       "1840        104.94  \n",
       "1841        520.58  \n",
       "1842       1836.90  \n",
       "1843       2816.59  \n",
       "1844         16.27  "
      ]
     },
     "execution_count": 35,
     "metadata": {},
     "output_type": "execute_result"
    }
   ],
   "source": [
    "data[data[\"Transaction_date\"] == data[\"Transaction_date\"].max()]"
   ]
  },
  {
   "cell_type": "markdown",
   "id": "6a9ce237",
   "metadata": {},
   "source": [
    "# Date on which minimum transactions were made"
   ]
  },
  {
   "cell_type": "code",
   "execution_count": 36,
   "id": "71ccfa3b",
   "metadata": {},
   "outputs": [
    {
     "data": {
      "text/html": [
       "<div>\n",
       "<style scoped>\n",
       "    .dataframe tbody tr th:only-of-type {\n",
       "        vertical-align: middle;\n",
       "    }\n",
       "\n",
       "    .dataframe tbody tr th {\n",
       "        vertical-align: top;\n",
       "    }\n",
       "\n",
       "    .dataframe thead th {\n",
       "        text-align: right;\n",
       "    }\n",
       "</style>\n",
       "<table border=\"1\" class=\"dataframe\">\n",
       "  <thead>\n",
       "    <tr style=\"text-align: right;\">\n",
       "      <th></th>\n",
       "      <th>Transaction_date</th>\n",
       "      <th>Transaction_ID</th>\n",
       "      <th>Gender</th>\n",
       "      <th>Age</th>\n",
       "      <th>Marital_status</th>\n",
       "      <th>State_names</th>\n",
       "      <th>Segment</th>\n",
       "      <th>Employees_status</th>\n",
       "      <th>Payment_method</th>\n",
       "      <th>Referal</th>\n",
       "      <th>Amount_spent</th>\n",
       "    </tr>\n",
       "  </thead>\n",
       "  <tbody>\n",
       "    <tr>\n",
       "      <th>0</th>\n",
       "      <td>1/1/2019</td>\n",
       "      <td>151200</td>\n",
       "      <td>Female</td>\n",
       "      <td>19.0</td>\n",
       "      <td>Single</td>\n",
       "      <td>Kansas</td>\n",
       "      <td>Basic</td>\n",
       "      <td>Unemployment</td>\n",
       "      <td>Other</td>\n",
       "      <td>1.0</td>\n",
       "      <td>2051.36</td>\n",
       "    </tr>\n",
       "    <tr>\n",
       "      <th>1</th>\n",
       "      <td>1/1/2019</td>\n",
       "      <td>151201</td>\n",
       "      <td>Male</td>\n",
       "      <td>49.0</td>\n",
       "      <td>Single</td>\n",
       "      <td>Illinois</td>\n",
       "      <td>Basic</td>\n",
       "      <td>self-employed</td>\n",
       "      <td>Card</td>\n",
       "      <td>0.0</td>\n",
       "      <td>544.04</td>\n",
       "    </tr>\n",
       "    <tr>\n",
       "      <th>2</th>\n",
       "      <td>1/1/2019</td>\n",
       "      <td>151202</td>\n",
       "      <td>Male</td>\n",
       "      <td>63.0</td>\n",
       "      <td>Married</td>\n",
       "      <td>New Mexico</td>\n",
       "      <td>Basic</td>\n",
       "      <td>workers</td>\n",
       "      <td>PayPal</td>\n",
       "      <td>1.0</td>\n",
       "      <td>1572.60</td>\n",
       "    </tr>\n",
       "    <tr>\n",
       "      <th>3</th>\n",
       "      <td>1/1/2019</td>\n",
       "      <td>151203</td>\n",
       "      <td>NaN</td>\n",
       "      <td>18.0</td>\n",
       "      <td>Single</td>\n",
       "      <td>Virginia</td>\n",
       "      <td>Platinum</td>\n",
       "      <td>workers</td>\n",
       "      <td>Card</td>\n",
       "      <td>1.0</td>\n",
       "      <td>1199.79</td>\n",
       "    </tr>\n",
       "    <tr>\n",
       "      <th>4</th>\n",
       "      <td>1/1/2019</td>\n",
       "      <td>151204</td>\n",
       "      <td>Male</td>\n",
       "      <td>27.0</td>\n",
       "      <td>Single</td>\n",
       "      <td>Connecticut</td>\n",
       "      <td>Basic</td>\n",
       "      <td>self-employed</td>\n",
       "      <td>Card</td>\n",
       "      <td>0.0</td>\n",
       "      <td>NaN</td>\n",
       "    </tr>\n",
       "  </tbody>\n",
       "</table>\n",
       "</div>"
      ],
      "text/plain": [
       "  Transaction_date  Transaction_ID  Gender   Age Marital_status  State_names  \\\n",
       "0         1/1/2019          151200  Female  19.0         Single       Kansas   \n",
       "1         1/1/2019          151201    Male  49.0         Single     Illinois   \n",
       "2         1/1/2019          151202    Male  63.0        Married   New Mexico   \n",
       "3         1/1/2019          151203     NaN  18.0         Single     Virginia   \n",
       "4         1/1/2019          151204    Male  27.0         Single  Connecticut   \n",
       "\n",
       "    Segment Employees_status Payment_method  Referal  Amount_spent  \n",
       "0     Basic     Unemployment          Other      1.0       2051.36  \n",
       "1     Basic    self-employed           Card      0.0        544.04  \n",
       "2     Basic          workers         PayPal      1.0       1572.60  \n",
       "3  Platinum          workers           Card      1.0       1199.79  \n",
       "4     Basic    self-employed           Card      0.0           NaN  "
      ]
     },
     "execution_count": 36,
     "metadata": {},
     "output_type": "execute_result"
    }
   ],
   "source": [
    "data[data[\"Transaction_date\"] == data[\"Transaction_date\"].min()]"
   ]
  },
  {
   "cell_type": "markdown",
   "id": "c13b8f1c",
   "metadata": {},
   "source": [
    "# Min amount_spent according to gender"
   ]
  },
  {
   "cell_type": "code",
   "execution_count": 37,
   "id": "c1dec570",
   "metadata": {},
   "outputs": [
    {
     "data": {
      "text/plain": [
       "Gender\n",
       "Female    2.09\n",
       "Male      2.16\n",
       "Name: Amount_spent, dtype: float64"
      ]
     },
     "execution_count": 37,
     "metadata": {},
     "output_type": "execute_result"
    }
   ],
   "source": [
    "data.groupby(\"Gender\").min()[\"Amount_spent\"]"
   ]
  },
  {
   "cell_type": "markdown",
   "id": "da09ce3d",
   "metadata": {},
   "source": [
    "# Mean amount_spent according to gender"
   ]
  },
  {
   "cell_type": "code",
   "execution_count": 38,
   "id": "010e6e72",
   "metadata": {},
   "outputs": [
    {
     "data": {
      "text/plain": [
       "Gender\n",
       "Female    1429.031627\n",
       "Male      1407.716397\n",
       "Name: Amount_spent, dtype: float64"
      ]
     },
     "execution_count": 38,
     "metadata": {},
     "output_type": "execute_result"
    }
   ],
   "source": [
    "data.groupby(\"Gender\").mean()[\"Amount_spent\"]"
   ]
  },
  {
   "cell_type": "markdown",
   "id": "26518d2e",
   "metadata": {},
   "source": [
    "# Top three states who had maximum customers from"
   ]
  },
  {
   "cell_type": "code",
   "execution_count": 39,
   "id": "6bb599c4",
   "metadata": {},
   "outputs": [
    {
     "data": {
      "text/plain": [
       "Illinois         67\n",
       "Georgia          64\n",
       "Massachusetts    63\n",
       "Name: State_names, dtype: int64"
      ]
     },
     "execution_count": 39,
     "metadata": {},
     "output_type": "execute_result"
    }
   ],
   "source": [
    "data.State_names.value_counts().nlargest(3)"
   ]
  },
  {
   "cell_type": "markdown",
   "id": "40bb2d59",
   "metadata": {},
   "source": [
    "# Representation of top 5 states according to customers"
   ]
  },
  {
   "cell_type": "code",
   "execution_count": 40,
   "id": "bc7ad8b1",
   "metadata": {},
   "outputs": [
    {
     "data": {
      "text/plain": [
       "<AxesSubplot:>"
      ]
     },
     "execution_count": 40,
     "metadata": {},
     "output_type": "execute_result"
    },
    {
     "data": {
      "image/png": "[encoded data removed]",
      "text/plain": [
       "<Figure size 432x288 with 1 Axes>"
      ]
     },
     "metadata": {
      "needs_background": "light"
     },
     "output_type": "display_data"
    }
   ],
   "source": [
    "data.State_names.value_counts().nlargest(5).plot(kind=\"barh\")"
   ]
  },
  {
   "cell_type": "markdown",
   "id": "7c519108",
   "metadata": {},
   "source": [
    "# Representation of first 4 state names and the segment in which they have shopped "
   ]
  },
  {
   "cell_type": "code",
   "execution_count": 41,
   "id": "cdfb4c31",
   "metadata": {},
   "outputs": [
    {
     "data": {
      "image/png": "[encoded data removed]",
      "text/plain": [
       "<Figure size 504x504 with 1 Axes>"
      ]
     },
     "metadata": {
      "needs_background": "light"
     },
     "output_type": "display_data"
    }
   ],
   "source": [
    "plt.figure(figsize=(7,7))\n",
    "data.groupby('State_names')['Segment'].value_counts().head(20).plot(kind=\"bar\")\n",
    "plt.show()"
   ]
  },
  {
   "cell_type": "markdown",
   "id": "97859875",
   "metadata": {},
   "source": [
    "# Representation of Segment shopped according to the gender"
   ]
  },
  {
   "cell_type": "code",
   "execution_count": 42,
   "id": "4ebedfe1",
   "metadata": {},
   "outputs": [
    {
     "data": {
      "image/png": "[encoded data removed]",
      "text/plain": [
       "<Figure size 504x504 with 1 Axes>"
      ]
     },
     "metadata": {},
     "output_type": "display_data"
    }
   ],
   "source": [
    "plt.figure(figsize=(7,7))\n",
    "data.groupby('Gender')['Segment'].value_counts().nlargest(15).plot(kind='pie',explode=(0.2,0,0,0,0,0,0,0,0,0),autopct=(\"%1.2f%%\"))\n",
    "plt.show()"
   ]
  },
  {
   "cell_type": "markdown",
   "id": "b04cb102",
   "metadata": {},
   "source": [
    "# Box plot of age"
   ]
  },
  {
   "cell_type": "code",
   "execution_count": 43,
   "id": "5733d5f6",
   "metadata": {},
   "outputs": [
    {
     "data": {
      "image/png": "[encoded data removed]",
      "text/plain": [
       "<Figure size 576x360 with 1 Axes>"
      ]
     },
     "metadata": {
      "needs_background": "light"
     },
     "output_type": "display_data"
    }
   ],
   "source": [
    "plt.figure(figsize=(8,5))\n",
    "sns.boxplot(data=data,x=\"Age\")\n",
    "plt.show()"
   ]
  },
  {
   "cell_type": "markdown",
   "id": "47dd7161",
   "metadata": {},
   "source": [
    "# Box plot of amount spent"
   ]
  },
  {
   "cell_type": "code",
   "execution_count": 44,
   "id": "1c0e1120",
   "metadata": {},
   "outputs": [
    {
     "data": {
      "image/png": "[encoded data removed]",
      "text/plain": [
       "<Figure size 576x360 with 1 Axes>"
      ]
     },
     "metadata": {
      "needs_background": "light"
     },
     "output_type": "display_data"
    }
   ],
   "source": [
    "plt.figure(figsize=(8,5))\n",
    "sns.boxplot(data=data,x=\"Amount_spent\")\n",
    "plt.show()"
   ]
  },
  {
   "cell_type": "markdown",
   "id": "6d4add8d",
   "metadata": {},
   "source": [
    "# Box plot of Employees_status wrt to amount_spent and hue of gender"
   ]
  },
  {
   "cell_type": "code",
   "execution_count": 45,
   "id": "a6fd110c",
   "metadata": {},
   "outputs": [
    {
     "data": {
      "image/png": "[encoded data removed]",
      "text/plain": [
       "<Figure size 432x288 with 1 Axes>"
      ]
     },
     "metadata": {
      "needs_background": "light"
     },
     "output_type": "display_data"
    }
   ],
   "source": [
    "sns.boxplot(data=data,x=\"Employees_status\",y=\"Amount_spent\",hue=\"Gender\")\n",
    "plt.show()"
   ]
  },
  {
   "cell_type": "markdown",
   "id": "8e61502d",
   "metadata": {},
   "source": [
    "# Correlation"
   ]
  },
  {
   "cell_type": "code",
   "execution_count": 46,
   "id": "782d0347",
   "metadata": {},
   "outputs": [
    {
     "data": {
      "text/html": [
       "<div>\n",
       "<style scoped>\n",
       "    .dataframe tbody tr th:only-of-type {\n",
       "        vertical-align: middle;\n",
       "    }\n",
       "\n",
       "    .dataframe tbody tr th {\n",
       "        vertical-align: top;\n",
       "    }\n",
       "\n",
       "    .dataframe thead th {\n",
       "        text-align: right;\n",
       "    }\n",
       "</style>\n",
       "<table border=\"1\" class=\"dataframe\">\n",
       "  <thead>\n",
       "    <tr style=\"text-align: right;\">\n",
       "      <th></th>\n",
       "      <th>Transaction_ID</th>\n",
       "      <th>Age</th>\n",
       "      <th>Referal</th>\n",
       "      <th>Amount_spent</th>\n",
       "    </tr>\n",
       "  </thead>\n",
       "  <tbody>\n",
       "    <tr>\n",
       "      <th>Transaction_ID</th>\n",
       "      <td>1.000000</td>\n",
       "      <td>-0.009019</td>\n",
       "      <td>-0.002859</td>\n",
       "      <td>-0.006672</td>\n",
       "    </tr>\n",
       "    <tr>\n",
       "      <th>Age</th>\n",
       "      <td>-0.009019</td>\n",
       "      <td>1.000000</td>\n",
       "      <td>0.013423</td>\n",
       "      <td>-0.023342</td>\n",
       "    </tr>\n",
       "    <tr>\n",
       "      <th>Referal</th>\n",
       "      <td>-0.002859</td>\n",
       "      <td>0.013423</td>\n",
       "      <td>1.000000</td>\n",
       "      <td>-0.006779</td>\n",
       "    </tr>\n",
       "    <tr>\n",
       "      <th>Amount_spent</th>\n",
       "      <td>-0.006672</td>\n",
       "      <td>-0.023342</td>\n",
       "      <td>-0.006779</td>\n",
       "      <td>1.000000</td>\n",
       "    </tr>\n",
       "  </tbody>\n",
       "</table>\n",
       "</div>"
      ],
      "text/plain": [
       "                Transaction_ID       Age   Referal  Amount_spent\n",
       "Transaction_ID        1.000000 -0.009019 -0.002859     -0.006672\n",
       "Age                  -0.009019  1.000000  0.013423     -0.023342\n",
       "Referal              -0.002859  0.013423  1.000000     -0.006779\n",
       "Amount_spent         -0.006672 -0.023342 -0.006779      1.000000"
      ]
     },
     "execution_count": 46,
     "metadata": {},
     "output_type": "execute_result"
    }
   ],
   "source": [
    "corr=data.corr()\n",
    "corr"
   ]
  },
  {
   "cell_type": "code",
   "execution_count": null,
   "id": "a3cb9f6f",
   "metadata": {},
   "outputs": [],
   "source": []
  },
  {
   "cell_type": "code",
   "execution_count": 47,
   "id": "0beb168f",
   "metadata": {},
   "outputs": [
    {
     "data": {
      "text/html": [
       "<style type=\"text/css\">\n",
       "#T_6287d_row0_col0, #T_6287d_row1_col1, #T_6287d_row2_col2, #T_6287d_row3_col3 {\n",
       "  background-color: #023858;\n",
       "  color: #f1f1f1;\n",
       "}\n",
       "#T_6287d_row0_col1, #T_6287d_row0_col3, #T_6287d_row2_col3 {\n",
       "  background-color: #fdf5fa;\n",
       "  color: #000000;\n",
       "}\n",
       "#T_6287d_row0_col2, #T_6287d_row1_col0, #T_6287d_row1_col3, #T_6287d_row3_col0, #T_6287d_row3_col1, #T_6287d_row3_col2 {\n",
       "  background-color: #fff7fb;\n",
       "  color: #000000;\n",
       "}\n",
       "#T_6287d_row1_col2 {\n",
       "  background-color: #fcf4fa;\n",
       "  color: #000000;\n",
       "}\n",
       "#T_6287d_row2_col0 {\n",
       "  background-color: #fef6fb;\n",
       "  color: #000000;\n",
       "}\n",
       "#T_6287d_row2_col1 {\n",
       "  background-color: #faf2f8;\n",
       "  color: #000000;\n",
       "}\n",
       "</style>\n",
       "<table id=\"T_6287d_\">\n",
       "  <thead>\n",
       "    <tr>\n",
       "      <th class=\"blank level0\" >&nbsp;</th>\n",
       "      <th class=\"col_heading level0 col0\" >Transaction_ID</th>\n",
       "      <th class=\"col_heading level0 col1\" >Age</th>\n",
       "      <th class=\"col_heading level0 col2\" >Referal</th>\n",
       "      <th class=\"col_heading level0 col3\" >Amount_spent</th>\n",
       "    </tr>\n",
       "  </thead>\n",
       "  <tbody>\n",
       "    <tr>\n",
       "      <th id=\"T_6287d_level0_row0\" class=\"row_heading level0 row0\" >Transaction_ID</th>\n",
       "      <td id=\"T_6287d_row0_col0\" class=\"data row0 col0\" >1.000000</td>\n",
       "      <td id=\"T_6287d_row0_col1\" class=\"data row0 col1\" >-0.009019</td>\n",
       "      <td id=\"T_6287d_row0_col2\" class=\"data row0 col2\" >-0.002859</td>\n",
       "      <td id=\"T_6287d_row0_col3\" class=\"data row0 col3\" >-0.006672</td>\n",
       "    </tr>\n",
       "    <tr>\n",
       "      <th id=\"T_6287d_level0_row1\" class=\"row_heading level0 row1\" >Age</th>\n",
       "      <td id=\"T_6287d_row1_col0\" class=\"data row1 col0\" >-0.009019</td>\n",
       "      <td id=\"T_6287d_row1_col1\" class=\"data row1 col1\" >1.000000</td>\n",
       "      <td id=\"T_6287d_row1_col2\" class=\"data row1 col2\" >0.013423</td>\n",
       "      <td id=\"T_6287d_row1_col3\" class=\"data row1 col3\" >-0.023342</td>\n",
       "    </tr>\n",
       "    <tr>\n",
       "      <th id=\"T_6287d_level0_row2\" class=\"row_heading level0 row2\" >Referal</th>\n",
       "      <td id=\"T_6287d_row2_col0\" class=\"data row2 col0\" >-0.002859</td>\n",
       "      <td id=\"T_6287d_row2_col1\" class=\"data row2 col1\" >0.013423</td>\n",
       "      <td id=\"T_6287d_row2_col2\" class=\"data row2 col2\" >1.000000</td>\n",
       "      <td id=\"T_6287d_row2_col3\" class=\"data row2 col3\" >-0.006779</td>\n",
       "    </tr>\n",
       "    <tr>\n",
       "      <th id=\"T_6287d_level0_row3\" class=\"row_heading level0 row3\" >Amount_spent</th>\n",
       "      <td id=\"T_6287d_row3_col0\" class=\"data row3 col0\" >-0.006672</td>\n",
       "      <td id=\"T_6287d_row3_col1\" class=\"data row3 col1\" >-0.023342</td>\n",
       "      <td id=\"T_6287d_row3_col2\" class=\"data row3 col2\" >-0.006779</td>\n",
       "      <td id=\"T_6287d_row3_col3\" class=\"data row3 col3\" >1.000000</td>\n",
       "    </tr>\n",
       "  </tbody>\n",
       "</table>\n"
      ],
      "text/plain": [
       "<pandas.io.formats.style.Styler at 0x1cbe6a8b4f0>"
      ]
     },
     "execution_count": 47,
     "metadata": {},
     "output_type": "execute_result"
    }
   ],
   "source": [
    "data.corr().style.background_gradient()"
   ]
  },
  {
   "cell_type": "markdown",
   "id": "096fe0e5",
   "metadata": {},
   "source": [
    "# Heatmap"
   ]
  },
  {
   "cell_type": "code",
   "execution_count": 48,
   "id": "185c8ed6",
   "metadata": {},
   "outputs": [
    {
     "data": {
      "image/png": "[encoded data removed]",
      "text/plain": [
       "<Figure size 432x288 with 2 Axes>"
      ]
     },
     "metadata": {
      "needs_background": "light"
     },
     "output_type": "display_data"
    }
   ],
   "source": [
    "sns.heatmap(corr,annot=True)\n",
    "plt.show()"
   ]
  },
  {
   "cell_type": "code",
   "execution_count": 49,
   "id": "e7aaf03d",
   "metadata": {},
   "outputs": [
    {
     "data": {
      "text/plain": [
       "[]"
      ]
     },
     "execution_count": 49,
     "metadata": {},
     "output_type": "execute_result"
    },
    {
     "data": {
      "image/png": "[encoded data removed]",
      "text/plain": [
       "<Figure size 432x288 with 1 Axes>"
      ]
     },
     "metadata": {
      "needs_background": "light"
     },
     "output_type": "display_data"
    }
   ],
   "source": [
    "sns.scatterplot(data=data,x=\"Employees_status\",y=\"Amount_spent\",hue=\"Segment\")\n",
    "plt.plot()"
   ]
  },
  {
   "cell_type": "markdown",
   "id": "9d668810",
   "metadata": {},
   "source": [
    "# Representation of Segment wrt age"
   ]
  },
  {
   "cell_type": "code",
   "execution_count": 50,
   "id": "ffc868bd",
   "metadata": {},
   "outputs": [
    {
     "data": {
      "image/png": "[encoded data removed]",
      "text/plain": [
       "<Figure size 1800x720 with 1 Axes>"
      ]
     },
     "metadata": {
      "needs_background": "light"
     },
     "output_type": "display_data"
    }
   ],
   "source": [
    "plt.figure(figsize=(25,10))\n",
    "sns.boxplot(data=data,x=\"Age\",y=\"Segment\")\n",
    "plt.show()"
   ]
  },
  {
   "cell_type": "code",
   "execution_count": null,
   "id": "3fe57fc2",
   "metadata": {},
   "outputs": [],
   "source": []
  },
  {
   "cell_type": "code",
   "execution_count": 51,
   "id": "538adab4",
   "metadata": {},
   "outputs": [
    {
     "data": {
      "image/png": "[encoded data removed]",
      "text/plain": [
       "<Figure size 1152x720 with 4 Axes>"
      ]
     },
     "metadata": {
      "needs_background": "light"
     },
     "output_type": "display_data"
    }
   ],
   "source": [
    "fig,axes = plt.subplots(2,2,figsize=(16,10))\n",
    "\n",
    "sns.distplot(data[\"Amount_spent\"],ax=axes[0,0])\n",
    "sns.countplot(data=data,y=\"Segment\",ax=axes[0,1])\n",
    "sns.scatterplot(data=data,x=\"Marital_status\",y=\"State_names\",hue=\"Payment_method\",ax=axes[1,0])\n",
    "sns.boxplot(data=data,x=\"Age\",ax=axes[1,1])\n",
    "plt.show()"
   ]
  },
  {
   "cell_type": "code",
   "execution_count": null,
   "id": "1863764e",
   "metadata": {},
   "outputs": [],
   "source": [
    "# from above data we anaylise the following interpretation \n",
    "# we can see that basic has more counts\n",
    "# observed that more people use paypal as payment method least is other\n",
    "# most shopping is done by females using paypay as payment method\n",
    "# married people have used paypal method of payment for shopping with maximum shopping\n",
    "# single have done least shopping using paypal as payment method\n",
    "# there are 50 states and the maximum shopping is done from illinois\n",
    "# and the least is from tennesse\n",
    "# the employed people are shopping the most\n",
    "# and the unemployed are shopping the least\n",
    "# on '1/25/2019' most purchases were done\n",
    "# on '1/1/2019' least purchase were done\n",
    "# the avg amount spend by female and male are Female    1429.031627 Male      1407.716397\n",
    "# the maximum shopping is done by females which is basic segment\n",
    "\n",
    "    \n",
    "\n"
   ]
  }
 ],
 "metadata": {
  "kernelspec": {
   "display_name": "Python 3 (ipykernel)",
   "language": "python",
   "name": "python3"
  },
  "language_info": {
   "codemirror_mode": {
    "name": "ipython",
    "version": 3
   },
   "file_extension": ".py",
   "mimetype": "text/x-python",
   "name": "python",
   "nbconvert_exporter": "python",
   "pygments_lexer": "ipython3",
   "version": "3.9.7"
  }
 },
 "nbformat": 4,
 "nbformat_minor": 5
}
